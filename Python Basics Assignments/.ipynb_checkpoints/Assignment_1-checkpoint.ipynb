{
 "cells": [
  {
   "cell_type": "markdown",
   "id": "e0876441",
   "metadata": {},
   "source": [
    "# Assignment - 1"
   ]
  },
  {
   "cell_type": "markdown",
   "id": "51267b17",
   "metadata": {},
   "source": [
    "### 1. In the below elements which of them are values or an expression? eg:- values can be integer or string and expressions will be mathematical operators.\n",
    "\n",
    "'*'     ----> Multiplication Operator\n",
    "\n",
    "'hello'  ---> String\n",
    "\n",
    "-87.8   ----> Floating Point\n",
    "\n",
    "'-'     ----> Subtraction Operator\n",
    "\n",
    "'/'     ----> Division Operator\n",
    "\n",
    "'+'     ----> Addition Operator\n",
    "\n",
    "6       ----> Integer"
   ]
  },
  {
   "cell_type": "markdown",
   "id": "f8eb7be4",
   "metadata": {},
   "source": [
    "### 2. What is the difference between string and variable?"
   ]
  },
  {
   "cell_type": "markdown",
   "id": "91a1f5b3",
   "metadata": {},
   "source": [
    "a string is a value representing text\n",
    "\n",
    "a variable is a name that can refer to any value"
   ]
  },
  {
   "cell_type": "markdown",
   "id": "d7ff9071",
   "metadata": {},
   "source": [
    "### 3. Describe three different data types."
   ]
  },
  {
   "cell_type": "markdown",
   "id": "eca1f0c1",
   "metadata": {},
   "source": [
    "Number: int-> stores integer values eg: x=10\n",
    "\n",
    "        float-> stores floating values eg: x=12.01\n",
    "        \n",
    "        complex-> stores complex values eg: x=10+2j\n",
    "        \n",
    "List: python list is a orderd data type, used to store collections of data,List items are ordered, changeable, and allow         duplicate values.List items are indexed, the first item has index [0], the second item has index [1]\n",
    "\n",
    "        eg: l=[1,2,3,4,5]\n",
    "        \n",
    "Set: The Collection of Unique items that are not in order is called Set. Braces {} are used to defined set and a comma is         used to separate values. One will find that the items are unordered in a set data type.\n",
    "       \n",
    "       eg: a = {4,5,5,6,6,6}\n",
    "             print(a) ---> {4,5,6}"
   ]
  },
  {
   "cell_type": "markdown",
   "id": "e3776052",
   "metadata": {},
   "source": [
    "### 4. What is an expression made up of? What do all expressions do?"
   ]
  },
  {
   "cell_type": "markdown",
   "id": "a54847ab",
   "metadata": {},
   "source": [
    "An expression is a construct made up of variables, operators, and method invocations, which are constructed according to the syntax of the language, that evaluates to a single value.\n",
    "\n",
    "eg: a=5\n",
    "    b=19\n",
    "    ans=a+b\n",
    "    power=math.pow(ans,2)\n",
    "    "
   ]
  },
  {
   "cell_type": "markdown",
   "id": "1361651a",
   "metadata": {},
   "source": [
    "### 5. This assignment statements, like spam = 10. What is the difference between an expression and a statement?"
   ]
  },
  {
   "cell_type": "markdown",
   "id": "5590e200",
   "metadata": {},
   "source": [
    "An expression evaluates to a single value. A statement does not."
   ]
  },
  {
   "cell_type": "markdown",
   "id": "59f4503a",
   "metadata": {},
   "source": [
    "### 6. After running the following code, what does the variable bacon contain?\n",
    "### bacon = 22\n",
    "### bacon + 1"
   ]
  },
  {
   "cell_type": "markdown",
   "id": "719159d4",
   "metadata": {},
   "source": [
    "The bacon variable has 20 as assigned value. The bacon + 1 expression does not reassign the value in bacon (that would need an assignment statement: bacon = bacon + 1)"
   ]
  },
  {
   "cell_type": "markdown",
   "id": "ef91247e",
   "metadata": {},
   "source": [
    "### 7. What should the values of the following two terms be?\n",
    "### 'spam' + 'spamspam'\n",
    "### 'spam' * 'spam'"
   ]
  },
  {
   "cell_type": "code",
   "execution_count": 1,
   "id": "6e0f0854",
   "metadata": {},
   "outputs": [
    {
     "data": {
      "text/plain": [
       "'spamspamspam'"
      ]
     },
     "execution_count": 1,
     "metadata": {},
     "output_type": "execute_result"
    }
   ],
   "source": [
    "'spam'+'spamspam'"
   ]
  },
  {
   "cell_type": "code",
   "execution_count": 2,
   "id": "fddeadd4",
   "metadata": {},
   "outputs": [
    {
     "data": {
      "text/plain": [
       "'sapmsapmsapm'"
      ]
     },
     "execution_count": 2,
     "metadata": {},
     "output_type": "execute_result"
    }
   ],
   "source": [
    "'sapm'*3"
   ]
  },
  {
   "cell_type": "markdown",
   "id": "115e105f",
   "metadata": {},
   "source": [
    "Both expressions give the same string as a result"
   ]
  },
  {
   "cell_type": "markdown",
   "id": "76f60fc8",
   "metadata": {},
   "source": [
    "### 8.Why is eggs a valid variable name while 100 is invalid?"
   ]
  },
  {
   "cell_type": "markdown",
   "id": "f7bbcfca",
   "metadata": {},
   "source": [
    "Variable names cannot begin with a number"
   ]
  },
  {
   "cell_type": "markdown",
   "id": "aa188d88",
   "metadata": {},
   "source": [
    "### 9. What three functions can be used to get the integer, floating-point number, or string version of a value?"
   ]
  },
  {
   "cell_type": "markdown",
   "id": "40bb6a39",
   "metadata": {},
   "source": [
    "The int(), float(), and str() functions will evaluate to the integer, floating-point number, and string versions of the value passed to them."
   ]
  },
  {
   "cell_type": "markdown",
   "id": "5dca60fe",
   "metadata": {},
   "source": [
    "### 10.Why does this expression cause an error? How can you fix it?\n",
    "\n",
    "### 'I have eaten ' + 99 + ' burritos.'"
   ]
  },
  {
   "cell_type": "code",
   "execution_count": 3,
   "id": "fe663e67",
   "metadata": {},
   "outputs": [
    {
     "ename": "TypeError",
     "evalue": "can only concatenate str (not \"int\") to str",
     "output_type": "error",
     "traceback": [
      "\u001b[1;31m---------------------------------------------------------------------------\u001b[0m",
      "\u001b[1;31mTypeError\u001b[0m                                 Traceback (most recent call last)",
      "\u001b[1;32m<ipython-input-3-d2fda53e8601>\u001b[0m in \u001b[0;36m<module>\u001b[1;34m\u001b[0m\n\u001b[1;32m----> 1\u001b[1;33m \u001b[1;34m'I have eaten'\u001b[0m\u001b[1;33m+\u001b[0m \u001b[1;36m99\u001b[0m\u001b[1;33m+\u001b[0m \u001b[1;34m'burritos'\u001b[0m\u001b[1;33m\u001b[0m\u001b[1;33m\u001b[0m\u001b[0m\n\u001b[0m",
      "\u001b[1;31mTypeError\u001b[0m: can only concatenate str (not \"int\") to str"
     ]
    }
   ],
   "source": [
    "'I have eaten '+ 99+ 'burritos'"
   ]
  },
  {
   "cell_type": "code",
   "execution_count": 7,
   "id": "1a193772",
   "metadata": {},
   "outputs": [
    {
     "data": {
      "text/plain": [
       "'I have eaten 99 burritos'"
      ]
     },
     "execution_count": 7,
     "metadata": {},
     "output_type": "execute_result"
    }
   ],
   "source": [
    "'I have eaten '+ '99'+ ' burritos'"
   ]
  },
  {
   "cell_type": "code",
   "execution_count": 6,
   "id": "3b333962",
   "metadata": {},
   "outputs": [
    {
     "data": {
      "text/plain": [
       "'I have eaten 99 burritos'"
      ]
     },
     "execution_count": 6,
     "metadata": {},
     "output_type": "execute_result"
    }
   ],
   "source": [
    "'I have eaten '+ str(99)+ ' burritos'"
   ]
  },
  {
   "cell_type": "markdown",
   "id": "750ab2ac",
   "metadata": {},
   "source": [
    "The expression causes an error because 99 is an integer, and only strings can be concatenated to other strings with the + operator. "
   ]
  },
  {
   "cell_type": "code",
   "execution_count": null,
   "id": "58198a8f",
   "metadata": {},
   "outputs": [],
   "source": []
  }
 ],
 "metadata": {
  "kernelspec": {
   "display_name": "Python 3",
   "language": "python",
   "name": "python3"
  },
  "language_info": {
   "codemirror_mode": {
    "name": "ipython",
    "version": 3
   },
   "file_extension": ".py",
   "mimetype": "text/x-python",
   "name": "python",
   "nbconvert_exporter": "python",
   "pygments_lexer": "ipython3",
   "version": "3.8.8"
  }
 },
 "nbformat": 4,
 "nbformat_minor": 5
}
